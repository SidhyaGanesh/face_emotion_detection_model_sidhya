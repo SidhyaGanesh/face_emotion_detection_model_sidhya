{
  "nbformat": 4,
  "nbformat_minor": 0,
  "metadata": {
    "colab": {
      "name": "Copy of EmotionDetectionModel",
      "provenance": [],
      "collapsed_sections": []
    },
    "kernelspec": {
      "name": "python3",
      "display_name": "Python 3"
    },
    "language_info": {
      "name": "python"
    }
  },
  "cells": [
    {
      "cell_type": "code",
      "metadata": {
        "colab": {
          "base_uri": "https://localhost:8080/"
        },
        "id": "jXIEKsX1S9j1",
        "outputId": "b109ff0a-0d95-4f24-b8ec-baec9adf2c5c"
      },
      "source": [
        "!pip -q install streamlit > /dev/null\n",
        "!pip -q install pyngrok > /dev/null\n",
        "!wget https://www.dropbox.com/s/072b5vf4b33bu1l/emotion_detection_model_for_streamlit.h5 > /dev/null\n",
        "!wget https://www.dropbox.com/s/p52z1qle0x1uf6f/happy.png > /dev/null\n",
        "\n",
        "import tensorflow as tf\n",
        "import pandas as pd\n",
        "import cv2\n",
        "import plotly.express as px\n",
        "import numpy as np  "
      ],
      "execution_count": null,
      "outputs": [
        {
          "output_type": "stream",
          "text": [
            "\u001b[31mERROR: pip's dependency resolver does not currently take into account all the packages that are installed. This behaviour is the source of the following dependency conflicts.\n",
            "jupyter-console 5.2.0 requires prompt-toolkit<2.0.0,>=1.0.0, but you have prompt-toolkit 3.0.19 which is incompatible.\n",
            "google-colab 1.0.0 requires ipykernel~=4.10, but you have ipykernel 6.0.3 which is incompatible.\n",
            "google-colab 1.0.0 requires ipython~=5.5.0, but you have ipython 7.25.0 which is incompatible.\u001b[0m\n",
            "--2021-07-29 17:30:01--  https://www.dropbox.com/s/072b5vf4b33bu1l/emotion_detection_model_for_streamlit.h5\n",
            "Resolving www.dropbox.com (www.dropbox.com)... 162.125.1.18, 2620:100:6016:18::a27d:112\n",
            "Connecting to www.dropbox.com (www.dropbox.com)|162.125.1.18|:443... connected.\n",
            "HTTP request sent, awaiting response... 301 Moved Permanently\n",
            "Location: /s/raw/072b5vf4b33bu1l/emotion_detection_model_for_streamlit.h5 [following]\n",
            "--2021-07-29 17:30:01--  https://www.dropbox.com/s/raw/072b5vf4b33bu1l/emotion_detection_model_for_streamlit.h5\n",
            "Reusing existing connection to www.dropbox.com:443.\n",
            "HTTP request sent, awaiting response... 302 Found\n",
            "Location: https://uc742c02682959eec283d0fceb35.dl.dropboxusercontent.com/cd/0/inline/BTPaV-zP4qo3dH_iemfQZnZeGpAF2-19fW4n6PMOELlzTTYFX957BpcLccVktM78YdxCPHHp4Jud0bkXZ3drwR0yPHP1fI9ZHlZumqwzaT36LlDnoRvIAtZM57W0_kZ6E4nJ3E5enDDcFKl2OwVbu6UJ/file# [following]\n",
            "--2021-07-29 17:30:01--  https://uc742c02682959eec283d0fceb35.dl.dropboxusercontent.com/cd/0/inline/BTPaV-zP4qo3dH_iemfQZnZeGpAF2-19fW4n6PMOELlzTTYFX957BpcLccVktM78YdxCPHHp4Jud0bkXZ3drwR0yPHP1fI9ZHlZumqwzaT36LlDnoRvIAtZM57W0_kZ6E4nJ3E5enDDcFKl2OwVbu6UJ/file\n",
            "Resolving uc742c02682959eec283d0fceb35.dl.dropboxusercontent.com (uc742c02682959eec283d0fceb35.dl.dropboxusercontent.com)... 162.125.1.15, 2620:100:6016:15::a27d:10f\n",
            "Connecting to uc742c02682959eec283d0fceb35.dl.dropboxusercontent.com (uc742c02682959eec283d0fceb35.dl.dropboxusercontent.com)|162.125.1.15|:443... connected.\n",
            "HTTP request sent, awaiting response... 200 OK\n",
            "Length: 126265696 (120M) [text/plain]\n",
            "Saving to: ‘emotion_detection_model_for_streamlit.h5’\n",
            "\n",
            "emotion_detection_m 100%[===================>] 120.42M   104MB/s    in 1.2s    \n",
            "\n",
            "2021-07-29 17:30:03 (104 MB/s) - ‘emotion_detection_model_for_streamlit.h5’ saved [126265696/126265696]\n",
            "\n",
            "--2021-07-29 17:30:03--  https://www.dropbox.com/s/p52z1qle0x1uf6f/happy.png\n",
            "Resolving www.dropbox.com (www.dropbox.com)... 162.125.1.18, 2620:100:6016:18::a27d:112\n",
            "Connecting to www.dropbox.com (www.dropbox.com)|162.125.1.18|:443... connected.\n",
            "HTTP request sent, awaiting response... 301 Moved Permanently\n",
            "Location: /s/raw/p52z1qle0x1uf6f/happy.png [following]\n",
            "--2021-07-29 17:30:03--  https://www.dropbox.com/s/raw/p52z1qle0x1uf6f/happy.png\n",
            "Reusing existing connection to www.dropbox.com:443.\n",
            "HTTP request sent, awaiting response... 302 Found\n",
            "Location: https://uc66f12909c0076551c24ea9c0d8.dl.dropboxusercontent.com/cd/0/inline/BTNUE6bA18w9KmlZR6X30pgnot9kny-dCg1hHUFWNdm48PMKyIlTmti2IksGNb53dmBbNG3B0e5cg2WZe3xHrSMAVVf6HP2l10DO7cYHZ8QNjCVBuOzRzwzupsfE2iaRt2YqFDagVO3XrocW3CX4yPkM/file# [following]\n",
            "--2021-07-29 17:30:03--  https://uc66f12909c0076551c24ea9c0d8.dl.dropboxusercontent.com/cd/0/inline/BTNUE6bA18w9KmlZR6X30pgnot9kny-dCg1hHUFWNdm48PMKyIlTmti2IksGNb53dmBbNG3B0e5cg2WZe3xHrSMAVVf6HP2l10DO7cYHZ8QNjCVBuOzRzwzupsfE2iaRt2YqFDagVO3XrocW3CX4yPkM/file\n",
            "Resolving uc66f12909c0076551c24ea9c0d8.dl.dropboxusercontent.com (uc66f12909c0076551c24ea9c0d8.dl.dropboxusercontent.com)... 162.125.1.15, 2620:100:6016:15::a27d:10f\n",
            "Connecting to uc66f12909c0076551c24ea9c0d8.dl.dropboxusercontent.com (uc66f12909c0076551c24ea9c0d8.dl.dropboxusercontent.com)|162.125.1.15|:443... connected.\n",
            "HTTP request sent, awaiting response... 200 OK\n",
            "Length: 357183 (349K) [image/png]\n",
            "Saving to: ‘happy.png’\n",
            "\n",
            "happy.png           100%[===================>] 348.81K  --.-KB/s    in 0.08s   \n",
            "\n",
            "2021-07-29 17:30:04 (4.16 MB/s) - ‘happy.png’ saved [357183/357183]\n",
            "\n"
          ],
          "name": "stdout"
        }
      ]
    },
    {
      "cell_type": "code",
      "metadata": {
        "colab": {
          "base_uri": "https://localhost:8080/"
        },
        "id": "mBDTF5gmTMa0",
        "outputId": "ad6c681c-9995-403a-d106-a9c991a31cde"
      },
      "source": [
        "%%writefile app.py\n",
        "import streamlit as st\n",
        "\n",
        "st.title(\"TITLE\")\n",
        "st.header(\"Description of the app\")"
      ],
      "execution_count": null,
      "outputs": [
        {
          "output_type": "stream",
          "text": [
            "Writing app.py\n"
          ],
          "name": "stdout"
        }
      ]
    },
    {
      "cell_type": "code",
      "metadata": {
        "colab": {
          "base_uri": "https://localhost:8080/"
        },
        "id": "b754_w0jTPTl",
        "outputId": "e5d0ef86-414d-47e7-cf32-57294e457393"
      },
      "source": [
        "%%writefile app.py\n",
        "import streamlit as st\n",
        "\n",
        "st.title(\"TITLE\")\n",
        "st.header(\"Description of the app\")"
      ],
      "execution_count": null,
      "outputs": [
        {
          "output_type": "stream",
          "text": [
            "Overwriting app.py\n"
          ],
          "name": "stdout"
        }
      ]
    },
    {
      "cell_type": "code",
      "metadata": {
        "colab": {
          "base_uri": "https://localhost:8080/"
        },
        "id": "LgtoYFr7TV1l",
        "outputId": "aaf2bf34-7e95-44cb-e5f6-c142038022ba"
      },
      "source": [
        "from pyngrok import ngrok\n",
        "#Publish Web App (Run this again whenever you make changes)\n",
        "public_url = ngrok.connect(port='80')\n",
        "print (public_url)\n",
        "! streamlit run --server.port 80 app.py"
      ],
      "execution_count": null,
      "outputs": [
        {
          "output_type": "stream",
          "text": [
            "NgrokTunnel: \"http://b6b672cd9e41.ngrok.io\" -> \"http://localhost:80\"\n",
            "\u001b[0m\n",
            "\u001b[34m\u001b[1m  You can now view your Streamlit app in your browser.\u001b[0m\n",
            "\u001b[0m\n",
            "\u001b[34m  Network URL: \u001b[0m\u001b[1mhttp://172.28.0.2:80\u001b[0m\n",
            "\u001b[34m  External URL: \u001b[0m\u001b[1mhttp://35.233.134.42:80\u001b[0m\n",
            "\u001b[0m\n",
            "2021-07-29 17:31:34.749501: I tensorflow/stream_executor/platform/default/dso_loader.cc:53] Successfully opened dynamic library libcudart.so.11.0\n",
            "2021-07-29 17:31:36.706108: I tensorflow/stream_executor/platform/default/dso_loader.cc:53] Successfully opened dynamic library libcuda.so.1\n",
            "2021-07-29 17:31:36.833072: E tensorflow/stream_executor/cuda/cuda_driver.cc:328] failed call to cuInit: CUDA_ERROR_NO_DEVICE: no CUDA-capable device is detected\n",
            "2021-07-29 17:31:36.833162: I tensorflow/stream_executor/cuda/cuda_diagnostics.cc:156] kernel driver does not appear to be running on this host (1af1d8b4d698): /proc/driver/nvidia/version does not exist\n",
            "2021-07-29 17:32:26.669103: I tensorflow/compiler/mlir/mlir_graph_optimization_pass.cc:176] None of the MLIR Optimization Passes are enabled (registered 2)\n",
            "2021-07-29 17:32:26.677806: I tensorflow/core/platform/profile_utils/cpu_utils.cc:114] CPU Frequency: 2199995000 Hz\n"
          ],
          "name": "stdout"
        }
      ]
    }
  ]
}